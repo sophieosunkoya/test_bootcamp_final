{
  "cells": [
    {
      "cell_type": "markdown",
      "id": "9469f4db",
      "metadata": {
        "id": "9469f4db"
      },
      "source": [
        "# Student Exam Score Prediction - Full Modeling Variations\n",
        "This notebook evaluates 12 variations across 4 model types and compares them to a baseline.\n"
      ]
    },
    {
      "cell_type": "markdown",
      "source": [
        "Project Objective and Overarching Question\n",
        "The central question driving this project is: To what extent can student exam scores be predicted from lifestyle habits, wellness factors, and socioeconomic background?\n",
        "\n",
        "We aim to identify which features contribute most to academic performance and explore predictive models that can help estimate student outcomes."
      ],
      "metadata": {
        "id": "MyFx5du7n2JO"
      },
      "id": "MyFx5du7n2JO"
    },
    {
      "cell_type": "markdown",
      "id": "998b1152",
      "metadata": {
        "id": "998b1152"
      },
      "source": [
        "## Baseline Performance\n",
        "The baseline model uses the mean of the target variable (exam score) to predict all outcomes. It serves as a naive benchmark."
      ]
    },
    {
      "cell_type": "code",
      "execution_count": 2,
      "id": "673a8897",
      "metadata": {
        "colab": {
          "base_uri": "https://localhost:8080/"
        },
        "id": "673a8897",
        "outputId": "6ad47cf1-bc8b-4f16-cdc4-62869606591a"
      },
      "outputs": [
        {
          "output_type": "stream",
          "name": "stdout",
          "text": [
            "Baseline R²: -0.0050, RMSE: 257.70, MAE: 12.38\n"
          ]
        }
      ],
      "source": [
        "\n",
        "import pandas as pd\n",
        "import numpy as np\n",
        "from sklearn.model_selection import train_test_split\n",
        "from sklearn.metrics import mean_absolute_error, mean_squared_error, r2_score\n",
        "from sklearn.linear_model import LinearRegression, Ridge\n",
        "from sklearn.ensemble import RandomForestRegressor, GradientBoostingRegressor\n",
        "from sklearn.neighbors import KNeighborsRegressor\n",
        "from sklearn.preprocessing import StandardScaler, PolynomialFeatures\n",
        "from sklearn.compose import ColumnTransformer\n",
        "from sklearn.pipeline import Pipeline\n",
        "from sklearn.feature_selection import SelectKBest, mutual_info_regression\n",
        "from sklearn.impute import SimpleImputer\n",
        "from sklearn.preprocessing import OneHotEncoder\n",
        "\n",
        "# Load data\n",
        "df = pd.read_csv(\"student_habits_performance.csv\")\n",
        "X = df.drop(columns=['student_id', 'exam_score'])\n",
        "y = df['exam_score']\n",
        "\n",
        "# Separate features\n",
        "cat_cols = X.select_dtypes(include='object').columns.tolist()\n",
        "num_cols = X.select_dtypes(include=['int64', 'float64']).columns.tolist()\n",
        "\n",
        "# Split data\n",
        "X_train, X_test, y_train, y_test = train_test_split(X, y, test_size=0.2, random_state=42)\n",
        "\n",
        "# Preprocessor\n",
        "preprocessor = ColumnTransformer(transformers=[\n",
        "    ('category', OneHotEncoder(drop='first'), cat_cols),\n",
        "    ('num', StandardScaler(), num_cols)\n",
        "])\n",
        "\n",
        "# Baseline\n",
        "baseline_pred = np.full_like(y_test, y_train.mean())\n",
        "baseline_r2 = r2_score(y_test, baseline_pred)\n",
        "baseline_rmse = mean_squared_error(y_test, baseline_pred, )\n",
        "baseline_mae = mean_absolute_error(y_test, baseline_pred)\n",
        "\n",
        "print(f\"Baseline R²: {baseline_r2:.4f}, RMSE: {baseline_rmse:.2f}, MAE: {baseline_mae:.2f}\")\n"
      ]
    },
    {
      "cell_type": "markdown",
      "id": "be3f6f19",
      "metadata": {
        "id": "be3f6f19"
      },
      "source": [
        "## Model Variations Evaluation\n",
        "The following sections contain code and results for 12 model variations (3 per model type)."
      ]
    },
    {
      "cell_type": "code",
      "execution_count": 3,
      "id": "db08bfa8",
      "metadata": {
        "colab": {
          "base_uri": "https://localhost:8080/"
        },
        "id": "db08bfa8",
        "outputId": "08a6fd63-b2ae-418b-a68b-ecffdf1b5d2f"
      },
      "outputs": [
        {
          "output_type": "stream",
          "name": "stdout",
          "text": [
            "Linear Regression 0.8967502640380202 26.476236454969175 4.1893110546275985\n"
          ]
        }
      ],
      "source": [
        "# Linear Regression - Basic\n",
        "lr_pipe = Pipeline([\n",
        "    ('pre', preprocessor),\n",
        "    ('model', LinearRegression())\n",
        "])\n",
        "lr_pipe.fit(X_train, y_train)\n",
        "y_pred = lr_pipe.predict(X_test)\n",
        "print(\"Linear Regression\", r2_score(y_test, y_pred), mean_squared_error(y_test, y_pred, ), mean_absolute_error(y_test, y_pred))"
      ]
    },
    {
      "cell_type": "code",
      "execution_count": 4,
      "id": "868bd394",
      "metadata": {
        "colab": {
          "base_uri": "https://localhost:8080/"
        },
        "id": "868bd394",
        "outputId": "1935be86-d6a5-42eb-e157-1aad514e3bba"
      },
      "outputs": [
        {
          "output_type": "stream",
          "name": "stdout",
          "text": [
            "Linear Regression (Poly) 0.8889571417059269 28.474619769605262 4.298645336992828\n"
          ]
        }
      ],
      "source": [
        "# Linear Regression with Polynomial Features\n",
        "degree_2_pipe = Pipeline([\n",
        "    ('pre', preprocessor),\n",
        "    ('poly', PolynomialFeatures(degree=2, include_bias=False)),\n",
        "    ('model', LinearRegression())\n",
        "])\n",
        "degree_2_pipe.fit(X_train, y_train)\n",
        "y_pred_poly = degree_2_pipe.predict(X_test)\n",
        "print(\"Linear Regression (Poly)\", r2_score(y_test, y_pred_poly), mean_squared_error(y_test, y_pred_poly, ), mean_absolute_error(y_test, y_pred_poly))"
      ]
    },
    {
      "cell_type": "code",
      "execution_count": 5,
      "id": "cec02b9c",
      "metadata": {
        "colab": {
          "base_uri": "https://localhost:8080/"
        },
        "id": "cec02b9c",
        "outputId": "28748d10-b9f2-454c-a1dd-0d80164066b3"
      },
      "outputs": [
        {
          "output_type": "stream",
          "name": "stdout",
          "text": [
            "Linear Regression (Feature Selection) 0.8661153827841181 34.33191136097462 4.746731429558739\n"
          ]
        }
      ],
      "source": [
        "# Linear Regression with Feature Selection\n",
        "selector = SelectKBest(score_func=mutual_info_regression, k=10)\n",
        "X_new = selector.fit_transform(preprocessor.fit_transform(X), y)\n",
        "X_train_fs, X_test_fs, y_train_fs, y_test_fs = train_test_split(X_new, y, test_size=0.2, random_state=42)\n",
        "fs_pipe = Pipeline([\n",
        "    ('model', LinearRegression())\n",
        "])\n",
        "fs_pipe.fit(X_train_fs, y_train_fs)\n",
        "y_pred_fs = fs_pipe.predict(X_test_fs)\n",
        "print(\"Linear Regression (Feature Selection)\", r2_score(y_test_fs, y_pred_fs), mean_squared_error(y_test_fs, y_pred_fs, ), mean_absolute_error(y_test_fs, y_pred_fs))"
      ]
    },
    {
      "cell_type": "code",
      "execution_count": 6,
      "id": "882ef10b",
      "metadata": {
        "colab": {
          "base_uri": "https://localhost:8080/"
        },
        "id": "882ef10b",
        "outputId": "be01dce0-cab7-43c5-b157-6e8dd69165c7"
      },
      "outputs": [
        {
          "output_type": "stream",
          "name": "stdout",
          "text": [
            "Random Forest (Default) 0.8501874788421045 38.41628937 4.946330000000001\n"
          ]
        }
      ],
      "source": [
        "# Random Forest - Default\n",
        "rf_pipe = Pipeline([\n",
        "    ('pre', preprocessor),\n",
        "    ('model', RandomForestRegressor(random_state=42))\n",
        "])\n",
        "rf_pipe.fit(X_train, y_train)\n",
        "y_pred_rf = rf_pipe.predict(X_test)\n",
        "print(\"Random Forest (Default)\", r2_score(y_test, y_pred_rf), mean_squared_error(y_test, y_pred_rf, ), mean_absolute_error(y_test, y_pred_rf))"
      ]
    },
    {
      "cell_type": "code",
      "execution_count": 7,
      "id": "037918f3",
      "metadata": {
        "colab": {
          "base_uri": "https://localhost:8080/"
        },
        "id": "037918f3",
        "outputId": "e58f1598-0902-419c-d220-94914a1298d8"
      },
      "outputs": [
        {
          "output_type": "stream",
          "name": "stdout",
          "text": [
            "Random Forest (Shallow) 0.8115565971571697 48.3223714381508 5.631418420835278\n"
          ]
        }
      ],
      "source": [
        "# Random Forest - Shallow Trees\n",
        "rf_shallow = Pipeline([\n",
        "    ('pre', preprocessor),\n",
        "    ('model', RandomForestRegressor(max_depth=5, random_state=42))\n",
        "])\n",
        "rf_shallow.fit(X_train, y_train)\n",
        "y_pred_shallow = rf_shallow.predict(X_test)\n",
        "print(\"Random Forest (Shallow)\", r2_score(y_test, y_pred_shallow), mean_squared_error(y_test, y_pred_shallow, ), mean_absolute_error(y_test, y_pred_shallow))"
      ]
    },
    {
      "cell_type": "code",
      "execution_count": 8,
      "id": "a3949116",
      "metadata": {
        "colab": {
          "base_uri": "https://localhost:8080/"
        },
        "id": "a3949116",
        "outputId": "961e1a3b-43b3-4992-e132-310ec9112809"
      },
      "outputs": [
        {
          "output_type": "stream",
          "name": "stdout",
          "text": [
            "Random Forest (Deep) 0.8501874788421045 38.41628937 4.946330000000001\n"
          ]
        }
      ],
      "source": [
        "# Random Forest - Deep Trees\n",
        "rf_deep = Pipeline([\n",
        "    ('pre', preprocessor),\n",
        "    ('model', RandomForestRegressor(max_depth=None, min_samples_split=2, random_state=42))\n",
        "])\n",
        "rf_deep.fit(X_train, y_train)\n",
        "y_pred_deep = rf_deep.predict(X_test)\n",
        "print(\"Random Forest (Deep)\", r2_score(y_test, y_pred_deep), mean_squared_error(y_test, y_pred_deep, ), mean_absolute_error(y_test, y_pred_deep))"
      ]
    },
    {
      "cell_type": "code",
      "execution_count": 9,
      "id": "9af6bfed",
      "metadata": {
        "colab": {
          "base_uri": "https://localhost:8080/"
        },
        "id": "9af6bfed",
        "outputId": "7850995a-89e5-4eb9-b376-bb6fdce7c724"
      },
      "outputs": [
        {
          "output_type": "stream",
          "name": "stdout",
          "text": [
            "Gradient Boosting (Default) 0.8805908844884767 30.6199715447795 4.619510553803127\n"
          ]
        }
      ],
      "source": [
        "# Gradient Boosting - Default\n",
        "gb_pipe = Pipeline([\n",
        "    ('pre', preprocessor),\n",
        "    ('model', GradientBoostingRegressor(random_state=42))\n",
        "])\n",
        "gb_pipe.fit(X_train, y_train)\n",
        "y_pred_gb = gb_pipe.predict(X_test)\n",
        "print(\"Gradient Boosting (Default)\", r2_score(y_test, y_pred_gb), mean_squared_error(y_test, y_pred_gb, ), mean_absolute_error(y_test, y_pred_gb))"
      ]
    },
    {
      "cell_type": "code",
      "execution_count": 10,
      "id": "a0737e85",
      "metadata": {
        "colab": {
          "base_uri": "https://localhost:8080/"
        },
        "id": "a0737e85",
        "outputId": "eb30f89b-07b5-4a90-92a9-513de58c5347"
      },
      "outputs": [
        {
          "output_type": "stream",
          "name": "stdout",
          "text": [
            "Gradient Boosting (Tuned) 0.8811845596710132 30.467735954404024 4.574196120088078\n"
          ]
        }
      ],
      "source": [
        "# Gradient Boosting - Tuned\n",
        "gb_tuned = Pipeline([\n",
        "    ('pre', preprocessor),\n",
        "    ('model', GradientBoostingRegressor(n_estimators=300, learning_rate=0.05, random_state=42))\n",
        "])\n",
        "gb_tuned.fit(X_train, y_train)\n",
        "y_pred_gb_tuned = gb_tuned.predict(X_test)\n",
        "print(\"Gradient Boosting (Tuned)\", r2_score(y_test, y_pred_gb_tuned), mean_squared_error(y_test, y_pred_gb_tuned, ), mean_absolute_error(y_test, y_pred_gb_tuned))"
      ]
    },
    {
      "cell_type": "code",
      "execution_count": 11,
      "id": "27a02b93",
      "metadata": {
        "colab": {
          "base_uri": "https://localhost:8080/"
        },
        "id": "27a02b93",
        "outputId": "9d23b5e1-40e6-4211-85ea-407a4620b0b7"
      },
      "outputs": [
        {
          "output_type": "stream",
          "name": "stdout",
          "text": [
            "Gradient Boosting (Shallow) 0.878161050628305 31.24305164497352 4.670542360896657\n"
          ]
        }
      ],
      "source": [
        "# Gradient Boosting - Shallow Trees\n",
        "gb_shallow = Pipeline([\n",
        "    ('pre', preprocessor),\n",
        "    ('model', GradientBoostingRegressor(max_depth=2, random_state=42))\n",
        "])\n",
        "gb_shallow.fit(X_train, y_train)\n",
        "y_pred_gb_shallow = gb_shallow.predict(X_test)\n",
        "print(\"Gradient Boosting (Shallow)\", r2_score(y_test, y_pred_gb_shallow), mean_squared_error(y_test, y_pred_gb_shallow, ), mean_absolute_error(y_test, y_pred_gb_shallow))"
      ]
    },
    {
      "cell_type": "code",
      "execution_count": 12,
      "id": "d5210256",
      "metadata": {
        "colab": {
          "base_uri": "https://localhost:8080/"
        },
        "id": "d5210256",
        "outputId": "af5b45a1-3a01-4223-b45b-3f3e427e2e6e"
      },
      "outputs": [
        {
          "output_type": "stream",
          "name": "stdout",
          "text": [
            "KNN (K=5) 0.6921676469974374 78.937172 7.064000000000001\n"
          ]
        }
      ],
      "source": [
        "# KNN - K=5\n",
        "knn5 = Pipeline([\n",
        "    ('pre', preprocessor),\n",
        "    ('model', KNeighborsRegressor(n_neighbors=5))\n",
        "])\n",
        "knn5.fit(X_train, y_train)\n",
        "y_pred_knn5 = knn5.predict(X_test)\n",
        "print(\"KNN (K=5)\", r2_score(y_test, y_pred_knn5), mean_squared_error(y_test, y_pred_knn5, ), mean_absolute_error(y_test, y_pred_knn5))"
      ]
    },
    {
      "cell_type": "code",
      "execution_count": 13,
      "id": "fa5147ee",
      "metadata": {
        "colab": {
          "base_uri": "https://localhost:8080/"
        },
        "id": "fa5147ee",
        "outputId": "f5368b22-1ffe-4142-a006-810de4f4a040"
      },
      "outputs": [
        {
          "output_type": "stream",
          "name": "stdout",
          "text": [
            "KNN (K=15) 0.7132961307947675 73.519214 6.769366666666667\n"
          ]
        }
      ],
      "source": [
        "# KNN - K=15\n",
        "knn15 = Pipeline([\n",
        "    ('pre', preprocessor),\n",
        "    ('model', KNeighborsRegressor(n_neighbors=15))\n",
        "])\n",
        "knn15.fit(X_train, y_train)\n",
        "y_pred_knn15 = knn15.predict(X_test)\n",
        "print(\"KNN (K=15)\", r2_score(y_test, y_pred_knn15), mean_squared_error(y_test, y_pred_knn15, ), mean_absolute_error(y_test, y_pred_knn15))"
      ]
    },
    {
      "cell_type": "code",
      "execution_count": 14,
      "id": "283108e8",
      "metadata": {
        "colab": {
          "base_uri": "https://localhost:8080/"
        },
        "id": "283108e8",
        "outputId": "0334a232-f2d0-426f-f999-83dd5203f1a8"
      },
      "outputs": [
        {
          "output_type": "stream",
          "name": "stdout",
          "text": [
            "KNN (K=50) 0.6777729029626185 82.62840320000001 7.000000000000001\n"
          ]
        }
      ],
      "source": [
        "# KNN - K=50\n",
        "knn50 = Pipeline([\n",
        "    ('pre', preprocessor),\n",
        "    ('model', KNeighborsRegressor(n_neighbors=50))\n",
        "])\n",
        "knn50.fit(X_train, y_train)\n",
        "y_pred_knn50 = knn50.predict(X_test)\n",
        "print(\"KNN (K=50)\", r2_score(y_test, y_pred_knn50), mean_squared_error(y_test, y_pred_knn50, ), mean_absolute_error(y_test, y_pred_knn50))"
      ]
    }
  ],
  "metadata": {
    "colab": {
      "provenance": []
    },
    "language_info": {
      "name": "python"
    },
    "kernelspec": {
      "name": "python3",
      "display_name": "Python 3"
    }
  },
  "nbformat": 4,
  "nbformat_minor": 5
}